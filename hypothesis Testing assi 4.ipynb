{
 "cells": [
  {
   "cell_type": "markdown",
   "id": "0610c1bc-70b0-4d0d-bcee-88be98b79699",
   "metadata": {},
   "source": []
  },
  {
   "cell_type": "markdown",
   "id": "ad2df117-238c-4f72-8abd-63d3de533b1b",
   "metadata": {},
   "source": [
    "# Hypothesis testing "
   ]
  },
  {
   "cell_type": "markdown",
   "id": "7576b592-2be7-4490-b1e1-0c8ed5ebbf57",
   "metadata": {},
   "source": [
    "Objective:\n",
    "To investigate the restaurant owners' claim about the increase in weekly operating costs using hypothesis testing.\n"
   ]
  },
  {
   "cell_type": "code",
   "execution_count": null,
   "id": "7c59e2e3-fa62-4ea2-afb8-8940b1f97a53",
   "metadata": {},
   "outputs": [],
   "source": []
  },
  {
   "cell_type": "markdown",
   "id": "8030c6de-1ee7-4175-85c3-dfa0a16568ac",
   "metadata": {},
   "source": [
    "#Null hypothesis : THE weekly operating costs is  m = W\n",
    "#alternative hypotheses : weekly operating cost is hight m> w\n",
    "#level of signeficance is 0.5"
   ]
  },
  {
   "cell_type": "markdown",
   "id": "526f8a20-9b29-4622-876e-ccfa33572bba",
   "metadata": {},
   "source": [
    "•\tˉxˉ = sample mean weekly cost (Rs. 3,050)\n",
    "•\tμ = theoretical mean weekly cost according to the cost model (W = $1,000 + $5X for X = 600 units)\n",
    "•\tσ = 5*25 units\n",
    "•\tn = sample size (25 restaurants)\n"
   ]
  },
  {
   "cell_type": "code",
   "execution_count": null,
   "id": "b51bcb9c-4d8d-442d-8b88-d4a27acda1f3",
   "metadata": {},
   "outputs": [],
   "source": []
  },
  {
   "cell_type": "code",
   "execution_count": 1,
   "id": "a4e45994-9935-4653-b8b4-8063b4e71795",
   "metadata": {},
   "outputs": [
    {
     "data": {
      "text/plain": [
       "4000"
      ]
     },
     "execution_count": 1,
     "metadata": {},
     "output_type": "execute_result"
    }
   ],
   "source": [
    "x = 3050\n",
    "X = 600\n",
    "mu =1000+5*X\n",
    "mu"
   ]
  },
  {
   "cell_type": "markdown",
   "id": "071efeeb-fd43-4dc7-bce1-08752fdd06f0",
   "metadata": {},
   "source": [
    "Calculate the Test Statistic:"
   ]
  },
  {
   "cell_type": "code",
   "execution_count": 2,
   "id": "6cecb5e6-3b04-4d12-8ea7-fb13665b7c49",
   "metadata": {},
   "outputs": [
    {
     "data": {
      "text/plain": [
       "-2124.2645786248"
      ]
     },
     "execution_count": 2,
     "metadata": {},
     "output_type": "execute_result"
    }
   ],
   "source": [
    "import numpy as np\n",
    "# the t test test value\n",
    "\n",
    "(3050-mu)/5*25/np.sqrt(5)   #WE acct H0       # IT IS TCAL VALUE IS -2124.2645"
   ]
  },
  {
   "cell_type": "code",
   "execution_count": 3,
   "id": "3bf478aa-d168-479e-9e61-81a78013d67b",
   "metadata": {},
   "outputs": [],
   "source": [
    "import scipy\n",
    "from scipy import stats"
   ]
  },
  {
   "cell_type": "code",
   "execution_count": 4,
   "id": "bf116a06-14ce-4688-9d6a-396ebaaf72b8",
   "metadata": {},
   "outputs": [
    {
     "data": {
      "text/plain": [
       "1.959963984540054"
      ]
     },
     "execution_count": 4,
     "metadata": {},
     "output_type": "execute_result"
    }
   ],
   "source": [
    "stats.norm.ppf(0.975)     #0.975 = (c.f + 0.05)  0.0is level of sigenifecance            "
   ]
  },
  {
   "cell_type": "code",
   "execution_count": 5,
   "id": "047b969b-80fb-4bef-862e-129517fcc126",
   "metadata": {},
   "outputs": [
    {
     "data": {
      "text/plain": [
       "False"
      ]
     },
     "execution_count": 5,
     "metadata": {},
     "output_type": "execute_result"
    }
   ],
   "source": [
    "-2124.2645786248 > 1.959963984540054           # frome this tcal is lessthen z table value then"
   ]
  },
  {
   "cell_type": "code",
   "execution_count": null,
   "id": "6954ddfe-b552-4c9e-b0f0-1cf26e7f69f0",
   "metadata": {},
   "outputs": [],
   "source": []
  },
  {
   "cell_type": "code",
   "execution_count": 6,
   "id": "8c537bdb-7d52-4c9c-8105-b298edab69f2",
   "metadata": {},
   "outputs": [],
   "source": [
    "#Make a Decision: we accpet h0  and the weekly operation cost are equal   at 5% los"
   ]
  },
  {
   "cell_type": "code",
   "execution_count": null,
   "id": "01242fa7-bf73-4b46-8208-5b1c20767158",
   "metadata": {},
   "outputs": [],
   "source": []
  },
  {
   "cell_type": "code",
   "execution_count": 7,
   "id": "9989ef30-a6cf-442a-a63d-b2ec608013d4",
   "metadata": {},
   "outputs": [],
   "source": [
    "#Conclusion:  the weekly oparation cost is equal to  mean of oparation cost"
   ]
  },
  {
   "cell_type": "markdown",
   "id": "4076429d-e996-40d3-81e2-a2b617c2789f",
   "metadata": {},
   "source": [
    "_____________________________________________________________________________________________________________________________-"
   ]
  },
  {
   "cell_type": "markdown",
   "id": "aa04653f-1353-4523-b029-b16cdd1d470a",
   "metadata": {},
   "source": [
    "# Chi-square "
   ]
  },
  {
   "cell_type": "markdown",
   "id": "01ac40d5-8832-4e30-9e97-18d2d532f0c6",
   "metadata": {},
   "source": [
    "Objective:\n",
    "To use the Chi-Square test for independence to determine if there's a significant association between the type of smart home device purchased (Smart Thermostats vs. Smart Lights) and the customer satisfaction level.\n"
   ]
  },
  {
   "cell_type": "code",
   "execution_count": 29,
   "id": "7f1f22c6-0f1d-483a-a398-a5f1bd263c7b",
   "metadata": {},
   "outputs": [],
   "source": [
    "#State the Hypotheses:\n",
    "#null hypotheses : there is no   significant association between the type of device purchased \n",
    "#all hypotheses :   there is   significant association between the type of device purchased"
   ]
  },
  {
   "cell_type": "code",
   "execution_count": 30,
   "id": "f38300f9-591b-4f59-8213-c645e6235172",
   "metadata": {},
   "outputs": [],
   "source": [
    "import pandas as pn \n",
    "import numpy as np"
   ]
  },
  {
   "cell_type": "code",
   "execution_count": 31,
   "id": "48ee629d-f8ff-453d-803b-9b80f8128ab3",
   "metadata": {},
   "outputs": [
    {
     "name": "stdout",
     "output_type": "stream",
     "text": [
      "                  Smart Thermostat  Smart Light  Total\n",
      "Satisfaction                                          \n",
      "Very Satisfied                  50           70    120\n",
      "Satisfied                       80          100    180\n",
      "Neutral                         60           90    150\n",
      "Unsatisfied                     30           50     80\n",
      "Very Unsatisfied                20           50     70\n"
     ]
    }
   ],
   "source": [
    "import pandas as pd\n",
    "\n",
    "# Create a dictionary with the data\n",
    "data = {\n",
    "    'Satisfaction': ['Very Satisfied', 'Satisfied', 'Neutral', 'Unsatisfied', 'Very Unsatisfied'],\n",
    "    'Smart Thermostat': [50, 80, 60, 30, 20],\n",
    "    'Smart Light': [70, 100, 90, 50, 50],\n",
    "    'Total': [120, 180, 150, 80, 70]\n",
    "}\n",
    "\n",
    "# Create the DataFrame\n",
    "df = pd.DataFrame(data)\n",
    "\n",
    "# Set the 'Satisfaction' column as the index\n",
    "df.set_index('Satisfaction', inplace=True)\n",
    "\n",
    "print(df)\n",
    "\n"
   ]
  },
  {
   "cell_type": "code",
   "execution_count": 32,
   "id": "72edb5a3-72dc-45dc-a781-c663a3c3e3ed",
   "metadata": {},
   "outputs": [],
   "source": [
    "df2 = pd.crosstab(df['Smart Thermostat'],df['Smart Light'])"
   ]
  },
  {
   "cell_type": "code",
   "execution_count": 33,
   "id": "27e0fcf3-143f-494d-bb2f-3468773d5cd2",
   "metadata": {},
   "outputs": [
    {
     "data": {
      "text/html": [
       "<div>\n",
       "<style scoped>\n",
       "    .dataframe tbody tr th:only-of-type {\n",
       "        vertical-align: middle;\n",
       "    }\n",
       "\n",
       "    .dataframe tbody tr th {\n",
       "        vertical-align: top;\n",
       "    }\n",
       "\n",
       "    .dataframe thead th {\n",
       "        text-align: right;\n",
       "    }\n",
       "</style>\n",
       "<table border=\"1\" class=\"dataframe\">\n",
       "  <thead>\n",
       "    <tr style=\"text-align: right;\">\n",
       "      <th>Smart Light</th>\n",
       "      <th>50</th>\n",
       "      <th>70</th>\n",
       "      <th>90</th>\n",
       "      <th>100</th>\n",
       "    </tr>\n",
       "    <tr>\n",
       "      <th>Smart Thermostat</th>\n",
       "      <th></th>\n",
       "      <th></th>\n",
       "      <th></th>\n",
       "      <th></th>\n",
       "    </tr>\n",
       "  </thead>\n",
       "  <tbody>\n",
       "    <tr>\n",
       "      <th>20</th>\n",
       "      <td>1</td>\n",
       "      <td>0</td>\n",
       "      <td>0</td>\n",
       "      <td>0</td>\n",
       "    </tr>\n",
       "    <tr>\n",
       "      <th>30</th>\n",
       "      <td>1</td>\n",
       "      <td>0</td>\n",
       "      <td>0</td>\n",
       "      <td>0</td>\n",
       "    </tr>\n",
       "    <tr>\n",
       "      <th>50</th>\n",
       "      <td>0</td>\n",
       "      <td>1</td>\n",
       "      <td>0</td>\n",
       "      <td>0</td>\n",
       "    </tr>\n",
       "    <tr>\n",
       "      <th>60</th>\n",
       "      <td>0</td>\n",
       "      <td>0</td>\n",
       "      <td>1</td>\n",
       "      <td>0</td>\n",
       "    </tr>\n",
       "    <tr>\n",
       "      <th>80</th>\n",
       "      <td>0</td>\n",
       "      <td>0</td>\n",
       "      <td>0</td>\n",
       "      <td>1</td>\n",
       "    </tr>\n",
       "  </tbody>\n",
       "</table>\n",
       "</div>"
      ],
      "text/plain": [
       "Smart Light       50   70   90   100\n",
       "Smart Thermostat                    \n",
       "20                  1    0    0    0\n",
       "30                  1    0    0    0\n",
       "50                  0    1    0    0\n",
       "60                  0    0    1    0\n",
       "80                  0    0    0    1"
      ]
     },
     "execution_count": 33,
     "metadata": {},
     "output_type": "execute_result"
    }
   ],
   "source": [
    "df2"
   ]
  },
  {
   "cell_type": "markdown",
   "id": "40db3aa3-60b2-44cf-848e-1d6b23529191",
   "metadata": {},
   "source": [
    "# Compute the Chi-Square Statistic:"
   ]
  },
  {
   "cell_type": "code",
   "execution_count": 34,
   "id": "ba59885c-2617-4b42-aa0e-06a02765b55a",
   "metadata": {},
   "outputs": [
    {
     "data": {
      "text/plain": [
       "Chi2ContingencyResult(statistic=15.000000000000002, pvalue=0.24143645097027544, dof=12, expected_freq=array([[0.4, 0.2, 0.2, 0.2],\n",
       "       [0.4, 0.2, 0.2, 0.2],\n",
       "       [0.4, 0.2, 0.2, 0.2],\n",
       "       [0.4, 0.2, 0.2, 0.2],\n",
       "       [0.4, 0.2, 0.2, 0.2]]))"
      ]
     },
     "execution_count": 34,
     "metadata": {},
     "output_type": "execute_result"
    }
   ],
   "source": [
    "from scipy import stats\n",
    "stats.chi2_contingency(df2)"
   ]
  },
  {
   "cell_type": "code",
   "execution_count": 35,
   "id": "582f52f2-29c9-4c57-b74a-936303960f80",
   "metadata": {},
   "outputs": [
    {
     "data": {
      "text/plain": [
       "31.410432844230918"
      ]
     },
     "execution_count": 35,
     "metadata": {},
     "output_type": "execute_result"
    }
   ],
   "source": [
    "#Determine the Critical Value:\n",
    "stats.chi2.ppf(0.95,20)             # significance level (alpha) of 0.05  #c cal value is 15 < c table value thene we accpet h1\n",
    "                                    # p value is 0.2414 is less then alpha then we we accpet h1"
   ]
  },
  {
   "cell_type": "markdown",
   "id": "c61e6057-7bca-4f92-a63e-f7f744a0516f",
   "metadata": {},
   "source": [
    "# Make a Decision:"
   ]
  },
  {
   "cell_type": "markdown",
   "id": "3e52a41b-e354-403d-a591-b9462e01935e",
   "metadata": {},
   "source": [
    "our descision is there is  significant association between the type of device purchased"
   ]
  },
  {
   "cell_type": "code",
   "execution_count": null,
   "id": "3d101521-bbc9-4c70-a9e9-51df44056ac7",
   "metadata": {},
   "outputs": [],
   "source": []
  }
 ],
 "metadata": {
  "kernelspec": {
   "display_name": "Python 3 (ipykernel)",
   "language": "python",
   "name": "python3"
  },
  "language_info": {
   "codemirror_mode": {
    "name": "ipython",
    "version": 3
   },
   "file_extension": ".py",
   "mimetype": "text/x-python",
   "name": "python",
   "nbconvert_exporter": "python",
   "pygments_lexer": "ipython3",
   "version": "3.11.7"
  }
 },
 "nbformat": 4,
 "nbformat_minor": 5
}
