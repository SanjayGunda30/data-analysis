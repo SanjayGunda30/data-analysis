{
 "cells": [
  {
   "cell_type": "code",
   "execution_count": 1,
   "id": "cc72282c",
   "metadata": {},
   "outputs": [
    {
     "data": {
      "text/plain": [
       "15"
      ]
     },
     "execution_count": 1,
     "metadata": {},
     "output_type": "execute_result"
    }
   ],
   "source": [
    "5+10"
   ]
  },
  {
   "cell_type": "code",
   "execution_count": 2,
   "id": "6392bcf3",
   "metadata": {},
   "outputs": [
    {
     "data": {
      "text/plain": [
       "52"
      ]
     },
     "execution_count": 2,
     "metadata": {},
     "output_type": "execute_result"
    }
   ],
   "source": [
    "22+30"
   ]
  },
  {
   "cell_type": "code",
   "execution_count": 3,
   "id": "c2bc67b0",
   "metadata": {},
   "outputs": [
    {
     "name": "stdout",
     "output_type": "stream",
     "text": [
      "40\n",
      "60\n",
      "100\n"
     ]
    }
   ],
   "source": [
    "x=40\n",
    "y=60\n",
    "z=x+y\n",
    "print(x)\n",
    "print(y)\n",
    "print(z)"
   ]
  },
  {
   "cell_type": "code",
   "execution_count": 4,
   "id": "37a77079",
   "metadata": {},
   "outputs": [
    {
     "name": "stdout",
     "output_type": "stream",
     "text": [
      "10\n",
      "30\n"
     ]
    }
   ],
   "source": [
    "a = 10\n",
    "b=30\n",
    "print(a)\n",
    "print(b)"
   ]
  },
  {
   "cell_type": "code",
   "execution_count": 5,
   "id": "bc339a55",
   "metadata": {},
   "outputs": [],
   "source": [
    "c=a+b"
   ]
  },
  {
   "cell_type": "code",
   "execution_count": 6,
   "id": "92c17bc8",
   "metadata": {},
   "outputs": [
    {
     "data": {
      "text/plain": [
       "40"
      ]
     },
     "execution_count": 6,
     "metadata": {},
     "output_type": "execute_result"
    }
   ],
   "source": [
    "c"
   ]
  },
  {
   "cell_type": "code",
   "execution_count": 7,
   "id": "1119cac9",
   "metadata": {},
   "outputs": [
    {
     "data": {
      "text/plain": [
       "-20"
      ]
     },
     "execution_count": 7,
     "metadata": {},
     "output_type": "execute_result"
    }
   ],
   "source": [
    "sub = a-b\n",
    "sub"
   ]
  },
  {
   "cell_type": "code",
   "execution_count": 8,
   "id": "0ffdd53f",
   "metadata": {},
   "outputs": [
    {
     "data": {
      "text/plain": [
       "3.0"
      ]
     },
     "execution_count": 8,
     "metadata": {},
     "output_type": "execute_result"
    }
   ],
   "source": [
    "d =b/a\n",
    "d"
   ]
  },
  {
   "cell_type": "code",
   "execution_count": 9,
   "id": "1e97a787",
   "metadata": {},
   "outputs": [
    {
     "data": {
      "text/plain": [
       "0"
      ]
     },
     "execution_count": 9,
     "metadata": {},
     "output_type": "execute_result"
    }
   ],
   "source": [
    "b%a #reminder"
   ]
  },
  {
   "cell_type": "code",
   "execution_count": 10,
   "id": "7a79149a",
   "metadata": {},
   "outputs": [
    {
     "data": {
      "text/plain": [
       "300"
      ]
     },
     "execution_count": 10,
     "metadata": {},
     "output_type": "execute_result"
    }
   ],
   "source": [
    "a*b"
   ]
  },
  {
   "cell_type": "code",
   "execution_count": 11,
   "id": "22b3ba3c",
   "metadata": {},
   "outputs": [
    {
     "data": {
      "text/plain": [
       "3.3333333333333335"
      ]
     },
     "execution_count": 11,
     "metadata": {},
     "output_type": "execute_result"
    }
   ],
   "source": [
    "10/3"
   ]
  },
  {
   "cell_type": "code",
   "execution_count": 12,
   "id": "80f320cc",
   "metadata": {},
   "outputs": [
    {
     "data": {
      "text/plain": [
       "10"
      ]
     },
     "execution_count": 12,
     "metadata": {},
     "output_type": "execute_result"
    }
   ],
   "source": [
    "a"
   ]
  },
  {
   "cell_type": "code",
   "execution_count": 13,
   "id": "a8db1677",
   "metadata": {},
   "outputs": [
    {
     "data": {
      "text/plain": [
       "30"
      ]
     },
     "execution_count": 13,
     "metadata": {},
     "output_type": "execute_result"
    }
   ],
   "source": [
    "b"
   ]
  },
  {
   "cell_type": "code",
   "execution_count": 14,
   "id": "ee68e241",
   "metadata": {},
   "outputs": [
    {
     "name": "stdout",
     "output_type": "stream",
     "text": [
      "10\n",
      "30\n",
      "40\n",
      "3.0\n"
     ]
    },
    {
     "data": {
      "text/plain": [
       "10"
      ]
     },
     "execution_count": 14,
     "metadata": {},
     "output_type": "execute_result"
    }
   ],
   "source": [
    "a\n",
    "print(a)\n",
    "print(b)\n",
    "print(c)\n",
    "print(d)\n",
    "a"
   ]
  },
  {
   "cell_type": "code",
   "execution_count": 15,
   "id": "d0013b31",
   "metadata": {},
   "outputs": [
    {
     "name": "stdout",
     "output_type": "stream",
     "text": [
      "Hello world\n"
     ]
    }
   ],
   "source": [
    "#conditional statements\n",
    "\n",
    "a = 40\n",
    "\n",
    "if a>5:\n",
    "    print(\"Hello world\")\n",
    "    \n",
    "else:\n",
    "    print(\"Bye bye\")\n",
    "    "
   ]
  },
  {
   "cell_type": "code",
   "execution_count": 16,
   "id": "8b35101b",
   "metadata": {},
   "outputs": [
    {
     "name": "stdout",
     "output_type": "stream",
     "text": [
      "bye\n"
     ]
    }
   ],
   "source": [
    "n1 =10\n",
    "\n",
    "if n1>10:\n",
    "    print(\"hello\")\n",
    "else:\n",
    "    print(\"bye\")"
   ]
  },
  {
   "cell_type": "code",
   "execution_count": 17,
   "id": "848834cd",
   "metadata": {},
   "outputs": [
    {
     "name": "stdout",
     "output_type": "stream",
     "text": [
      "Even\n"
     ]
    }
   ],
   "source": [
    "n = 50\n",
    "\n",
    "if n%2==0:\n",
    "    print(\"Even\")\n",
    "else:\n",
    "    print(\"Odd\")"
   ]
  },
  {
   "cell_type": "code",
   "execution_count": 19,
   "id": "d72d8938",
   "metadata": {},
   "outputs": [
    {
     "name": "stdin",
     "output_type": "stream",
     "text": [
      "Enter a number 20\n"
     ]
    },
    {
     "name": "stdout",
     "output_type": "stream",
     "text": [
      "Positive\n"
     ]
    }
   ],
   "source": [
    "n = int(input(\"Enter a number\"))\n",
    "\n",
    "if (n>0):\n",
    "    print(\"Positive\")\n",
    "elif (n<0):\n",
    "    print(\"negative\")\n",
    "else:\n",
    "    print(\"Zero\")"
   ]
  },
  {
   "cell_type": "code",
   "execution_count": 20,
   "id": "97d47b0d",
   "metadata": {},
   "outputs": [
    {
     "name": "stdin",
     "output_type": "stream",
     "text": [
      "enter a number 5\n"
     ]
    }
   ],
   "source": [
    "a = int(input(\"enter a number\"))"
   ]
  },
  {
   "cell_type": "code",
   "execution_count": 21,
   "id": "6042902c",
   "metadata": {},
   "outputs": [
    {
     "data": {
      "text/plain": [
       "5"
      ]
     },
     "execution_count": 21,
     "metadata": {},
     "output_type": "execute_result"
    }
   ],
   "source": [
    "a"
   ]
  },
  {
   "cell_type": "code",
   "execution_count": 22,
   "id": "abd5fc8d",
   "metadata": {},
   "outputs": [],
   "source": [
    "#list\n",
    "\n",
    "l1 = [\"hello\",\"hi\",\"hey\"]"
   ]
  },
  {
   "cell_type": "code",
   "execution_count": 23,
   "id": "ff620683",
   "metadata": {},
   "outputs": [
    {
     "data": {
      "text/plain": [
       "'hello'"
      ]
     },
     "execution_count": 23,
     "metadata": {},
     "output_type": "execute_result"
    }
   ],
   "source": [
    "l1[0]"
   ]
  },
  {
   "cell_type": "code",
   "execution_count": 24,
   "id": "37fe7fd1",
   "metadata": {},
   "outputs": [
    {
     "data": {
      "text/plain": [
       "'hi'"
      ]
     },
     "execution_count": 24,
     "metadata": {},
     "output_type": "execute_result"
    }
   ],
   "source": [
    "l1[1]"
   ]
  },
  {
   "cell_type": "code",
   "execution_count": 25,
   "id": "4051f7d4",
   "metadata": {},
   "outputs": [],
   "source": [
    "d1 = {\"k1\":100,\"k2\":200}"
   ]
  },
  {
   "cell_type": "code",
   "execution_count": 26,
   "id": "94d9c3c3",
   "metadata": {},
   "outputs": [
    {
     "name": "stdout",
     "output_type": "stream",
     "text": [
      "{'k1': 100, 'k2': 200}\n"
     ]
    }
   ],
   "source": [
    "print(d1)"
   ]
  },
  {
   "cell_type": "code",
   "execution_count": 27,
   "id": "c9281008",
   "metadata": {},
   "outputs": [
    {
     "data": {
      "text/plain": [
       "100"
      ]
     },
     "execution_count": 27,
     "metadata": {},
     "output_type": "execute_result"
    }
   ],
   "source": [
    "d1[\"k1\"]"
   ]
  },
  {
   "cell_type": "code",
   "execution_count": 28,
   "id": "689d7434",
   "metadata": {},
   "outputs": [],
   "source": [
    "d2 = {\"age\":[10,20,30,40],\"salary\":[25000,30000,45000,50000]}"
   ]
  },
  {
   "cell_type": "code",
   "execution_count": 29,
   "id": "9458700c",
   "metadata": {},
   "outputs": [
    {
     "data": {
      "text/plain": [
       "[10, 20, 30, 40]"
      ]
     },
     "execution_count": 29,
     "metadata": {},
     "output_type": "execute_result"
    }
   ],
   "source": [
    "d2[\"age\"]"
   ]
  },
  {
   "cell_type": "code",
   "execution_count": null,
   "id": "3f7542c2",
   "metadata": {},
   "outputs": [],
   "source": []
  },
  {
   "cell_type": "code",
   "execution_count": 32,
   "id": "20717a2c",
   "metadata": {},
   "outputs": [],
   "source": [
    "list1 = [10,20,30,40,50,60,70,80,90]"
   ]
  },
  {
   "cell_type": "code",
   "execution_count": 33,
   "id": "680ee4a1",
   "metadata": {},
   "outputs": [
    {
     "data": {
      "text/plain": [
       "[20, 30, 40, 50]"
      ]
     },
     "execution_count": 33,
     "metadata": {},
     "output_type": "execute_result"
    }
   ],
   "source": [
    "list1[1:5]"
   ]
  },
  {
   "cell_type": "code",
   "execution_count": 34,
   "id": "fafc0e91",
   "metadata": {},
   "outputs": [
    {
     "data": {
      "text/plain": [
       "[66, 77]"
      ]
     },
     "execution_count": 34,
     "metadata": {},
     "output_type": "execute_result"
    }
   ],
   "source": [
    "l2 = [22,44,55,66,77]\n",
    "l2[3:5]"
   ]
  },
  {
   "cell_type": "code",
   "execution_count": 35,
   "id": "5abd1c8d",
   "metadata": {},
   "outputs": [
    {
     "data": {
      "text/plain": [
       "[30, 40, 50, 60, 70, 80]"
      ]
     },
     "execution_count": 35,
     "metadata": {},
     "output_type": "execute_result"
    }
   ],
   "source": [
    "#start from index 2 and end just before index 8\n",
    "\n",
    "list1[2:8]"
   ]
  },
  {
   "cell_type": "code",
   "execution_count": 36,
   "id": "7564995e",
   "metadata": {},
   "outputs": [
    {
     "data": {
      "text/plain": [
       "9"
      ]
     },
     "execution_count": 36,
     "metadata": {},
     "output_type": "execute_result"
    }
   ],
   "source": [
    "#length of the list\n",
    "\n",
    "len(list1)"
   ]
  },
  {
   "cell_type": "code",
   "execution_count": 37,
   "id": "057d0a87",
   "metadata": {},
   "outputs": [
    {
     "data": {
      "text/plain": [
       "90"
      ]
     },
     "execution_count": 37,
     "metadata": {},
     "output_type": "execute_result"
    }
   ],
   "source": [
    "#negative indexing: start from -1 and from the right side\n",
    "list1 = [10,20,30,40,50,60,70,80,90]\n",
    "list1[-1]"
   ]
  },
  {
   "cell_type": "code",
   "execution_count": 38,
   "id": "ac10fda7",
   "metadata": {},
   "outputs": [
    {
     "data": {
      "text/plain": [
       "[]"
      ]
     },
     "execution_count": 38,
     "metadata": {},
     "output_type": "execute_result"
    }
   ],
   "source": [
    "list1[-2:-7]"
   ]
  },
  {
   "cell_type": "code",
   "execution_count": 39,
   "id": "74f74e5b",
   "metadata": {},
   "outputs": [
    {
     "data": {
      "text/plain": [
       "[30, 40, 50, 60, 70, 80]"
      ]
     },
     "execution_count": 39,
     "metadata": {},
     "output_type": "execute_result"
    }
   ],
   "source": [
    "list1[-7:-1]"
   ]
  },
  {
   "cell_type": "code",
   "execution_count": 40,
   "id": "dbce9475",
   "metadata": {},
   "outputs": [
    {
     "name": "stdout",
     "output_type": "stream",
     "text": [
      "1\n",
      "2\n",
      "3\n",
      "4\n",
      "5\n",
      "6\n",
      "7\n",
      "8\n",
      "9\n",
      "10\n",
      "Hi\n"
     ]
    }
   ],
   "source": [
    "i=1\n",
    "\n",
    "while i<=10:\n",
    "    print(i)\n",
    "    i=i+1\n",
    "    \n",
    "print(\"Hi\")"
   ]
  },
  {
   "cell_type": "code",
   "execution_count": null,
   "id": "2815bb3a",
   "metadata": {},
   "outputs": [],
   "source": []
  },
  {
   "cell_type": "code",
   "execution_count": 44,
   "id": "18e1368f",
   "metadata": {},
   "outputs": [
    {
     "data": {
      "text/plain": [
       "int"
      ]
     },
     "execution_count": 44,
     "metadata": {},
     "output_type": "execute_result"
    }
   ],
   "source": [
    "a=100\n",
    "\n",
    "type(a)"
   ]
  },
  {
   "cell_type": "code",
   "execution_count": 45,
   "id": "75ffedf3",
   "metadata": {},
   "outputs": [
    {
     "ename": "NameError",
     "evalue": "name 'summation' is not defined",
     "output_type": "error",
     "traceback": [
      "\u001b[1;31m---------------------------------------------------------------------------\u001b[0m",
      "\u001b[1;31mNameError\u001b[0m                                 Traceback (most recent call last)",
      "Cell \u001b[1;32mIn[45], line 1\u001b[0m\n\u001b[1;32m----> 1\u001b[0m summation()\n",
      "\u001b[1;31mNameError\u001b[0m: name 'summation' is not defined"
     ]
    }
   ],
   "source": []
  },
  {
   "cell_type": "code",
   "execution_count": 28,
   "id": "8e911f43",
   "metadata": {},
   "outputs": [
    {
     "data": {
      "text/plain": [
       "range(0, 5)"
      ]
     },
     "execution_count": 28,
     "metadata": {},
     "output_type": "execute_result"
    }
   ],
   "source": [
    "range(5)"
   ]
  },
  {
   "cell_type": "code",
   "execution_count": 31,
   "id": "3f76cb71",
   "metadata": {},
   "outputs": [
    {
     "name": "stdout",
     "output_type": "stream",
     "text": [
      "0\n",
      "1\n",
      "2\n",
      "3\n",
      "4\n",
      "5\n",
      "6\n",
      "7\n",
      "8\n",
      "9\n",
      "10\n",
      "11\n",
      "12\n",
      "13\n",
      "14\n",
      "15\n",
      "16\n",
      "17\n",
      "18\n",
      "19\n"
     ]
    }
   ],
   "source": [
    "for i in range(20):\n",
    "    print(i)"
   ]
  },
  {
   "cell_type": "code",
   "execution_count": 32,
   "id": "fb94f28c",
   "metadata": {},
   "outputs": [
    {
     "data": {
      "text/plain": [
       "[10, 20, 30, 40, 50, 60, 70, 80, 90]"
      ]
     },
     "execution_count": 32,
     "metadata": {},
     "output_type": "execute_result"
    }
   ],
   "source": [
    "list1"
   ]
  },
  {
   "cell_type": "code",
   "execution_count": null,
   "id": "bb8988ba",
   "metadata": {},
   "outputs": [],
   "source": [
    "for i in range(len(list1)):\n",
    "    print(list1[i])"
   ]
  },
  {
   "cell_type": "code",
   "execution_count": 33,
   "id": "bcbaa258",
   "metadata": {},
   "outputs": [
    {
     "name": "stdout",
     "output_type": "stream",
     "text": [
      "10\n",
      "20\n",
      "30\n",
      "40\n",
      "50\n",
      "60\n",
      "70\n",
      "80\n",
      "90\n"
     ]
    }
   ],
   "source": [
    "i=0\n",
    "\n",
    "while(i<len(list1)):\n",
    "    print(list1[i])\n",
    "    i=i+1"
   ]
  },
  {
   "cell_type": "code",
   "execution_count": 34,
   "id": "89de23fe",
   "metadata": {},
   "outputs": [],
   "source": [
    "list2 = [\"kiwi\",\"orange\",\"apple\",\"banana\"]"
   ]
  },
  {
   "cell_type": "code",
   "execution_count": 35,
   "id": "2e086153",
   "metadata": {},
   "outputs": [
    {
     "name": "stdout",
     "output_type": "stream",
     "text": [
      "kiwi\n",
      "orange\n",
      "apple\n",
      "banana\n"
     ]
    }
   ],
   "source": [
    "for x in list2:\n",
    "    print(x)"
   ]
  },
  {
   "cell_type": "code",
   "execution_count": 36,
   "id": "f9745598",
   "metadata": {},
   "outputs": [
    {
     "name": "stdout",
     "output_type": "stream",
     "text": [
      "kiwi\n",
      "orange\n",
      "apple\n",
      "banana\n"
     ]
    }
   ],
   "source": [
    "for x in range(len(list2)):\n",
    "    print(list2[x])"
   ]
  },
  {
   "cell_type": "code",
   "execution_count": 1,
   "id": "97133587",
   "metadata": {},
   "outputs": [],
   "source": [
    "#methods\n",
    "\n",
    "def greet():\n",
    "    print(\"Hello\")\n",
    "    print(\"Hi\")\n",
    "    print(\"Bye\")"
   ]
  },
  {
   "cell_type": "code",
   "execution_count": 6,
   "id": "7cc40e26-2aff-41b8-9012-c4c251d31846",
   "metadata": {},
   "outputs": [],
   "source": [
    "def m1():\n",
    "  print ('hello')\n",
    "  print('how are you')"
   ]
  },
  {
   "cell_type": "code",
   "execution_count": 12,
   "id": "611dc834",
   "metadata": {},
   "outputs": [],
   "source": [
    "def add(a,b,c):\n",
    "    d = a+b+c\n",
    "    return d\n",
    "    "
   ]
  },
  {
   "cell_type": "code",
   "execution_count": 22,
   "id": "187e162c-6ee0-442c-a183-d5727c51fbf3",
   "metadata": {},
   "outputs": [],
   "source": [
    "#def is use to cretet and method\n",
    "def sum(a,e,f):\n",
    "    s = a*e*f\n",
    "    print(s)"
   ]
  },
  {
   "cell_type": "code",
   "execution_count": 7,
   "id": "59286d12-eed5-4c33-8805-e6873c1473dd",
   "metadata": {},
   "outputs": [
    {
     "name": "stdout",
     "output_type": "stream",
     "text": [
      "hello\n",
      "how are you\n"
     ]
    }
   ],
   "source": [
    "m1()"
   ]
  },
  {
   "cell_type": "code",
   "execution_count": 23,
   "id": "9cd6e43a-9f5a-49d7-8e0f-e57cdd828334",
   "metadata": {},
   "outputs": [
    {
     "name": "stdout",
     "output_type": "stream",
     "text": [
      "131196\n"
     ]
    }
   ],
   "source": [
    "sum(58,26,87)"
   ]
  },
  {
   "cell_type": "code",
   "execution_count": 13,
   "id": "c905fd59-f511-4743-a9b6-1a70de29f4b6",
   "metadata": {},
   "outputs": [
    {
     "data": {
      "text/plain": [
       "60"
      ]
     },
     "execution_count": 13,
     "metadata": {},
     "output_type": "execute_result"
    }
   ],
   "source": [
    "add(10,20,30)\n"
   ]
  },
  {
   "cell_type": "code",
   "execution_count": 24,
   "id": "e680d245",
   "metadata": {},
   "outputs": [
    {
     "data": {
      "text/plain": [
       "160"
      ]
     },
     "execution_count": 24,
     "metadata": {},
     "output_type": "execute_result"
    }
   ],
   "source": [
    "add(10,20,30) +100"
   ]
  },
  {
   "cell_type": "code",
   "execution_count": null,
   "id": "70384d36",
   "metadata": {},
   "outputs": [],
   "source": [
    "greet()"
   ]
  },
  {
   "cell_type": "code",
   "execution_count": null,
   "id": "5e31b4f2",
   "metadata": {},
   "outputs": [],
   "source": [
    "add(3,5,6)"
   ]
  },
  {
   "cell_type": "code",
   "execution_count": 25,
   "id": "f69478d4",
   "metadata": {},
   "outputs": [
    {
     "ename": "NameError",
     "evalue": "name 'add3' is not defined",
     "output_type": "error",
     "traceback": [
      "\u001b[1;31m---------------------------------------------------------------------------\u001b[0m",
      "\u001b[1;31mNameError\u001b[0m                                 Traceback (most recent call last)",
      "Cell \u001b[1;32mIn[25], line 1\u001b[0m\n\u001b[1;32m----> 1\u001b[0m add3(\u001b[38;5;241m10\u001b[39m,\u001b[38;5;241m20\u001b[39m,\u001b[38;5;241m30\u001b[39m) \u001b[38;5;241m+\u001b[39m\u001b[38;5;241m100\u001b[39m\n",
      "\u001b[1;31mNameError\u001b[0m: name 'add3' is not defined"
     ]
    }
   ],
   "source": [
    "add3(10,20,30) +100"
   ]
  },
  {
   "cell_type": "code",
   "execution_count": null,
   "id": "124cb132",
   "metadata": {},
   "outputs": [],
   "source": [
    "#create a method to find whether a number is even or odd"
   ]
  },
  {
   "cell_type": "code",
   "execution_count": 50,
   "id": "0856e867",
   "metadata": {},
   "outputs": [],
   "source": [
    "\n"
   ]
  },
  {
   "cell_type": "code",
   "execution_count": null,
   "id": "415af186",
   "metadata": {},
   "outputs": [],
   "source": [
    "greet()"
   ]
  },
  {
   "cell_type": "code",
   "execution_count": 52,
   "id": "348555c3",
   "metadata": {},
   "outputs": [],
   "source": [
    "def add1(a,b):\n",
    "    c = a+b\n",
    "    return c"
   ]
  },
  {
   "cell_type": "code",
   "execution_count": 53,
   "id": "f2dda2f2",
   "metadata": {},
   "outputs": [
    {
     "data": {
      "text/plain": [
       "107"
      ]
     },
     "execution_count": 53,
     "metadata": {},
     "output_type": "execute_result"
    }
   ],
   "source": [
    "add1(3,4) + 100"
   ]
  },
  {
   "cell_type": "code",
   "execution_count": null,
   "id": "0b8339bc",
   "metadata": {},
   "outputs": [],
   "source": [
    "z=add1(3,4)"
   ]
  },
  {
   "cell_type": "code",
   "execution_count": 48,
   "id": "f4489c46",
   "metadata": {},
   "outputs": [
    {
     "name": "stdout",
     "output_type": "stream",
     "text": [
      "Enter the first number 10\n",
      "Enter the second number 20\n",
      "30\n"
     ]
    }
   ],
   "source": [
    "summation()"
   ]
  },
  {
   "cell_type": "code",
   "execution_count": null,
   "id": "d0e1ba0c",
   "metadata": {},
   "outputs": [],
   "source": [
    "x=100*z\n",
    "x"
   ]
  },
  {
   "cell_type": "code",
   "execution_count": null,
   "id": "9ba1df15",
   "metadata": {},
   "outputs": [],
   "source": [
    "greet()"
   ]
  },
  {
   "cell_type": "code",
   "execution_count": 45,
   "id": "46057f6e",
   "metadata": {},
   "outputs": [
    {
     "name": "stdout",
     "output_type": "stream",
     "text": [
      "Hello\n",
      "Hi\n",
      "Bye\n"
     ]
    }
   ],
   "source": [
    "greet()"
   ]
  },
  {
   "cell_type": "code",
   "execution_count": 60,
   "id": "d30214b2",
   "metadata": {},
   "outputs": [],
   "source": [
    "def evod(n):\n",
    "    if (n%2==0):\n",
    "        print(n,\" is even\")\n",
    "    else:\n",
    "        print(n,\" is odd\")"
   ]
  },
  {
   "cell_type": "code",
   "execution_count": 61,
   "id": "808333d8",
   "metadata": {},
   "outputs": [
    {
     "name": "stdout",
     "output_type": "stream",
     "text": [
      "33  is odd\n"
     ]
    }
   ],
   "source": [
    "evod(33)"
   ]
  },
  {
   "cell_type": "code",
   "execution_count": 62,
   "id": "1e78812c",
   "metadata": {},
   "outputs": [
    {
     "name": "stdout",
     "output_type": "stream",
     "text": [
      "40  is even\n"
     ]
    }
   ],
   "source": [
    "evod(40)"
   ]
  },
  {
   "cell_type": "code",
   "execution_count": 63,
   "id": "caeceb54",
   "metadata": {},
   "outputs": [
    {
     "name": "stdout",
     "output_type": "stream",
     "text": [
      "55  is odd\n"
     ]
    }
   ],
   "source": [
    "evod(55)"
   ]
  },
  {
   "cell_type": "code",
   "execution_count": null,
   "id": "af4d2c41",
   "metadata": {},
   "outputs": [],
   "source": []
  },
  {
   "cell_type": "code",
   "execution_count": null,
   "id": "de25183e",
   "metadata": {},
   "outputs": [],
   "source": [
    "greet()"
   ]
  },
  {
   "cell_type": "code",
   "execution_count": 47,
   "id": "aee31e7f",
   "metadata": {},
   "outputs": [],
   "source": [
    "def summation():\n",
    "    a = int(input(\"Enter the first number \"))\n",
    "    b = int(input(\"Enter the second number \"))\n",
    "    c= a+b\n",
    "    print(c)"
   ]
  },
  {
   "cell_type": "code",
   "execution_count": null,
   "id": "d532a995",
   "metadata": {},
   "outputs": [],
   "source": []
  },
  {
   "cell_type": "code",
   "execution_count": null,
   "id": "31b7b4b8",
   "metadata": {},
   "outputs": [],
   "source": []
  },
  {
   "cell_type": "code",
   "execution_count": null,
   "id": "0231b290",
   "metadata": {},
   "outputs": [],
   "source": []
  },
  {
   "cell_type": "code",
   "execution_count": null,
   "id": "7f711302",
   "metadata": {},
   "outputs": [],
   "source": []
  },
  {
   "cell_type": "code",
   "execution_count": null,
   "id": "ae2ad736",
   "metadata": {},
   "outputs": [],
   "source": []
  },
  {
   "cell_type": "code",
   "execution_count": null,
   "id": "1db4e1ec",
   "metadata": {},
   "outputs": [],
   "source": []
  },
  {
   "cell_type": "code",
   "execution_count": null,
   "id": "6d5aa352",
   "metadata": {},
   "outputs": [],
   "source": []
  }
 ],
 "metadata": {
  "kernelspec": {
   "display_name": "Python 3 (ipykernel)",
   "language": "python",
   "name": "python3"
  },
  "language_info": {
   "codemirror_mode": {
    "name": "ipython",
    "version": 3
   },
   "file_extension": ".py",
   "mimetype": "text/x-python",
   "name": "python",
   "nbconvert_exporter": "python",
   "pygments_lexer": "ipython3",
   "version": "3.11.7"
  }
 },
 "nbformat": 4,
 "nbformat_minor": 5
}
